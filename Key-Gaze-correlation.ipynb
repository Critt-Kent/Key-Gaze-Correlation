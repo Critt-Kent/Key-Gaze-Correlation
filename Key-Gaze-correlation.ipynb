{
 "cells": [
  {
   "cell_type": "code",
   "execution_count": null,
   "id": "52873650",
   "metadata": {},
   "outputs": [],
   "source": [
    "import sys\n",
    "import importlib\n",
    "\n",
    "import numpy as np\n",
    "import pandas as pd\n",
    "import os.path\n",
    "\n",
    "# Import the model we are using\n",
    "import seaborn as sns\n",
    "import matplotlib.pyplot as plt\n",
    "\n"
   ]
  },
  {
   "cell_type": "code",
   "execution_count": null,
   "id": "ecd41bd5-9cab-4691-8727-f5458ac18c16",
   "metadata": {},
   "outputs": [],
   "source": [
    "# run this command only the first time to download the BTSSlayers library from gitbub\n",
    "!wget https://github.com/Critt-Kent/Behavioral-Translation-Style-Space/blob/main/BTSSlayers.py \n",
    "\n",
    "# then import as btss\n",
    "import BTSSlayers as btss\n"
   ]
  },
  {
   "cell_type": "code",
   "execution_count": null,
   "id": "75086bdf-3dca-4c34-aeee-a30e8ffb0867",
   "metadata": {
    "editable": true,
    "slideshow": {
     "slide_type": ""
    },
    "tags": []
   },
   "outputs": [],
   "source": [
    "# set dataframe vizualisation options \n",
    "pd.set_option('display.max_columns', None)\n",
    "pd.set_option('display.max_rows', None)"
   ]
  },
  {
   "cell_type": "markdown",
   "id": "3d1120ca-f4e4-4791-889b-c05423706d85",
   "metadata": {},
   "source": [
    "# Key-Gaze analysis\n",
    "- Read AU and FD data\n",
    "- Compute Gaze measures\n",
    "- Correlate with PUB and KBI "
   ]
  },
  {
   "cell_type": "code",
   "execution_count": null,
   "id": "bf5da622-559e-434c-9c86-addd4d4a0fb2",
   "metadata": {},
   "outputs": [],
   "source": [
    "# Read a small set of sessions\n",
    "L = ['ACS08/Tables/P03_T1', \n",
    "     'ACS08/Tables/P08_T1', \n",
    "     'ACS08/Tables/P06_T4',\n",
    "     'ACS08/Tables/P11_T2',\n",
    "     'AR22/Tables/P12_T6',\n",
    "     'AR22/Tables/P12_T5']\n",
    "\n",
    "# read the Activity Units (au1) and the fixation data (fd) \n",
    "BTSS1 = btss.readBTSSsessions(L, layers = ['au1', 'fd'], verbose=0)\n",
    "\n",
    "# rename for easier use\n",
    "AUdf = BTSS1['au1']\n",
    "FDdf = BTSS1['fd'] \n",
    "print(\"AUs:\", AUdf.shape, \"FDs:\", FDdf.shape)"
   ]
  },
  {
   "cell_type": "code",
   "execution_count": null,
   "id": "4bef01db-79fc-4c15-b57f-4aaa45a73e7c",
   "metadata": {
    "scrolled": true
   },
   "outputs": [],
   "source": [
    "# Read a large set of 491 translation sessions from the TPR-DB\n",
    "GD = pd.read_csv('sorted.gaze.clean.txt', sep=\"\\t\", dtype=None)\n",
    "\n",
    "# read the Tables from the TPR-DB\n",
    "BTSS1 = btss.readBTSSsessions(GD['Study-Session'], layers = ['au1', 'fd'], verbose=0)\n",
    "\n",
    "# rename for easier use\n",
    "AUdf = BTSS1['au1']\n",
    "FDdf = BTSS1['fd'] \n",
    "print(\"AUs:\", AUdf.shape, \"FDs:\", FDdf.shape)"
   ]
  },
  {
   "cell_type": "code",
   "execution_count": null,
   "id": "e62d3824-4310-4da7-bd61-3fbacdba45e8",
   "metadata": {},
   "outputs": [],
   "source": [
    "FDdf.head()"
   ]
  },
  {
   "cell_type": "code",
   "execution_count": null,
   "id": "b8068bb8-bf79-49b5-8361-95130fd38bda",
   "metadata": {
    "scrolled": true
   },
   "outputs": [],
   "source": [
    "# extract one row per session \n",
    "AUdf['StudySession'] = AUdf['Study'] + AUdf['Session']\n",
    "A = AUdf.drop_duplicates(subset=['StudySession'])\n",
    "A.shape"
   ]
  },
  {
   "cell_type": "code",
   "execution_count": null,
   "id": "9006f91c-2f97-47d0-9267-0552ae339fde",
   "metadata": {},
   "outputs": [],
   "source": [
    "AUdf.head()"
   ]
  },
  {
   "cell_type": "code",
   "execution_count": null,
   "id": "a560bb8f-1122-4683-8914-c8209e76b866",
   "metadata": {},
   "outputs": [],
   "source": [
    "FDdf.head()"
   ]
  },
  {
   "cell_type": "code",
   "execution_count": null,
   "id": "87091861-e22f-47e0-9e5d-fc033f3db1ab",
   "metadata": {},
   "outputs": [],
   "source": [
    "PUdf.head()"
   ]
  },
  {
   "cell_type": "code",
   "execution_count": null,
   "id": "8ca83e63-4a6e-4d48-a6dc-04787992e7bd",
   "metadata": {},
   "outputs": [],
   "source": [
    "HOFdf.head()"
   ]
  },
  {
   "cell_type": "code",
   "execution_count": null,
   "id": "f4919e50-a78e-42a6-8411-d8b7ee5a3159",
   "metadata": {},
   "outputs": [],
   "source": [
    "POLdf.head()"
   ]
  },
  {
   "cell_type": "code",
   "execution_count": null,
   "id": "8187f945-d135-422a-9144-fe78e7b16fcf",
   "metadata": {},
   "outputs": [],
   "source": [
    "PHdf.head()"
   ]
  },
  {
   "cell_type": "markdown",
   "id": "83669e95-11c9-4f97-bfb4-121d80e31fa0",
   "metadata": {
    "jp-MarkdownHeadingCollapsed": true
   },
   "source": [
    "## Distribution of log HOF values\n",
    "\n",
    "- log duration\n",
    "- log insertions and log deletions\n",
    "- log Linear reading, Regressive reading, scattered reading"
   ]
  },
  {
   "cell_type": "code",
   "execution_count": null,
   "id": "e1663dc8",
   "metadata": {
    "scrolled": true
   },
   "outputs": [],
   "source": [
    "\n",
    "HOF_order = [\"H\", \"O\", \"R\", \"F\"]\n",
    "palette = [\"red\",\"blue\",\"green\", \"black\"]\n",
    "\n",
    "HOFdf['LogIns'] = np.log(HOFdf['Ins'] + 1)\n",
    "HOFdf['LogDel'] = np.log(HOFdf['Del'] + 1)\n",
    "\n",
    "AU1 = HOFdf[HOFdf.Dur > 1]\n",
    "sns.histplot(data=AU1, x=\"LogDur\", bins=100, alpha=0.3, hue='HOF', fill=False, kde=True, stat=\"probability\", \n",
    "             palette=palette, hue_order=HOF_order )\n",
    "plt.show()\n",
    "\n",
    "AU1 = HOFdf[(HOFdf.LogIns > 0)]\n",
    "sns.histplot(data=AU1, x=\"LogIns\", bins=100, alpha=0.3, hue='HOF', kde=True, fill=False, stat=\"probability\", \n",
    "             palette=palette, hue_order=HOF_order)\n",
    "plt.show()\n",
    "\n",
    "#AU1 = HOFdf[(HOFdf.Del > 0) & (HOFdf.HOF.isin(['H','F']))]\n",
    "AU1 = HOFdf[(HOFdf.LogDel > 0)]\n",
    "sns.histplot(data=AU1, x=\"LogDel\", bins=100, alpha=0.3, hue='HOF', kde=True, fill=False, stat=\"probability\", \n",
    "             palette=palette, hue_order=HOF_order)\n",
    "plt.show()\n",
    "\n",
    "AU1 = HOFdf[HOFdf.LogDur_L > 1]\n",
    "sns.histplot(data=AU1, x=\"LogDur_L\", bins=100, alpha=0.3, hue='HOF', kde=True, fill=False, stat=\"probability\", \n",
    "             palette=palette, hue_order=HOF_order)\n",
    "plt.show()\n",
    "\n",
    "AU1 = HOFdf[HOFdf.LogDur_R > 1]\n",
    "sns.histplot(data=AU1, x=\"LogDur_R\", bins=100, alpha=0.3, hue='HOF', kde=True, fill=False, \n",
    "             stat=\"probability\", palette=palette, hue_order=HOF_order)\n",
    "plt.show()\n",
    "\n",
    "AU1 = HOFdf[HOFdf.LogDur_S > 1]\n",
    "sns.histplot(data=AU1, x=\"LogDur_S\", bins=100, alpha=0.3, hue='HOF', kde=True, fill=False, \n",
    "             stat=\"probability\", palette=palette, hue_order=HOF_order)\n"
   ]
  },
  {
   "cell_type": "markdown",
   "id": "fb49c51b-88b7-44b0-b9a7-05579e087f63",
   "metadata": {
    "jp-MarkdownHeadingCollapsed": true
   },
   "source": [
    "## Distribution of Gaze Duration"
   ]
  },
  {
   "cell_type": "code",
   "execution_count": null,
   "id": "1b7aa014",
   "metadata": {},
   "outputs": [],
   "source": [
    "sns.set(font_scale=1.5)\n",
    "sns.set_style(\"whitegrid\")\n",
    "\n",
    "desired_order = [\"H\", \"O\", \"R\",\"F\"]\n",
    "\n",
    "H = HOFdf[HOFdf.LogDur_R > 1]\n",
    "sns.histplot(data=H, x=\"LogDur_R\", bins=30, hue='HOF', alpha=0.2, stat=\"density\", kde = True, hue_order=desired_order )\n",
    "plt.show()\n",
    "\n",
    "H = HOFdf[HOFdf.LogDur_L > 1]\n",
    "sns.histplot(data=H, x=\"LogDur_L\", bins=30, hue='HOF', alpha=0.2, stat=\"probability\", kde = True, hue_order=desired_order)\n",
    "plt.show()\n",
    "\n",
    "H = HOFdf[HOFdf.LogDur_S > 1]\n",
    "sns.histplot(data=H, x=\"LogDur_S\", bins=30, hue='HOF', alpha=0.2, stat=\"probability\", kde = True, hue_order=desired_order)\n",
    "plt.show()\n",
    "\n",
    "H = HOFdf[HOFdf.RelDur_R > 0]\n",
    "sns.histplot(data=H, x=\"RelDur_R\", bins=30, hue='HOF', alpha=0.2, stat=\"density\", kde = True, hue_order=desired_order )\n",
    "#plt.title(title=\"Type 1 reading per HOF states\")\n",
    "plt.show()\n",
    "\n",
    "H = HOFdf[HOFdf.RelDur_L > 0]\n",
    "sns.histplot(data=H, x=\"RelDur_L\", bins=30, hue='HOF', alpha=0.2, stat=\"probability\", kde = True, hue_order=desired_order  )\n",
    "plt.show()\n",
    "\n",
    "H = HOFdf[HOFdf.RelDur_S > 0]\n",
    "sns.histplot(data=H, x=\"RelDur_S\", bins=30, hue='HOF', alpha=0.2, stat=\"probability\", kde = True, hue_order=desired_order  )\n",
    "plt.show()\n",
    "\n"
   ]
  },
  {
   "cell_type": "markdown",
   "id": "f2d19ad9-cd0d-4408-9a2d-b951f919a4e3",
   "metadata": {},
   "source": [
    "## LogOdds of ST / TT Fixations per HOF state\n",
    "\n",
    "fixation odds is ${\\frac {p}{1-p}}$ where $p$ is the refixation probability. \n",
    "$p = 1$ if every fixation in a HOF state is on a different word (refixaton chance = 0). \n",
    "\n",
    "logOdds is the logarithm of the fixation odds, i.e, the chances of how often a word is refixated:\n",
    "- logOdds = 0: 50% refixation chance (every word is on average fixated twice)\n",
    "- logOdds > 0: if refixation on a word chance > 50%\n",
    "- logOdds < 0: if refixation on a word chance < 50%\n",
    "\n",
    "\n",
    "it's computed as:\n",
    "\n",
    "- $fixLogOdds = \\mathrm{logit} (fixRel)= \\log (\\frac {fixRel}{1-fixRel})$\n",
    "\n",
    "where:\n",
    "- $fixRel$: number different ST or TT words fixated  $ fixRel= \\frac{fixDiff}{fixTot}$\n",
    "\n",
    "and\n",
    "- $fixDiff$: number different ST / TT words fixated\n",
    "- $fixTot$: total number of ST /TT fixations per HOF state\n"
   ]
  },
  {
   "cell_type": "code",
   "execution_count": null,
   "id": "bde58d5c-55c2-4abb-a7e1-63ee2b1ec02c",
   "metadata": {},
   "outputs": [],
   "source": [
    "desired_order = [\"H\", \"O\", \"R\", \"F\"]\n",
    "\n",
    "# SfixTot: total number of ST fixations per HOF state\n",
    "# SfixDiff: number different ST words fixated\n",
    "# SfixRel: number different TT words fixated\n",
    "# SfixLogOdds: chances of how often an ST word is refixated\n",
    "\n",
    "# TfixTot: total number of TT fixations per HOF state\n",
    "# TfixDiff: number different TT words fixated\n",
    "\n",
    "HOFdf['SfixRel'] = HOFdf['SfixDiff']/HOFdf['SfixTot']\n",
    "HOFdf['TfixRel'] = HOFdf['TfixDiff']/HOFdf['TfixTot']\n",
    "\n",
    "HOFdf['SfixLogOdds'] = np.log(HOFdf['SfixRel']/(1-HOFdf['SfixRel']))\n",
    "HOFdf['TfixLogOdds'] = np.log(HOFdf['TfixRel']/(1-HOFdf['TfixRel']))\n",
    "\n",
    "sns.boxplot(data=HOFdf, y='SfixLogOdds' , hue='HOF', hue_order=desired_order )\n",
    "plt.show()\n",
    "\n",
    "#H = HOFdf[HOFdf['TfixLogOdds'].notna()]\n",
    "sns.boxplot(data=HOFdf, y='TfixLogOdds' , hue='HOF', hue_order=desired_order )\n",
    "plt.show()\n"
   ]
  },
  {
   "cell_type": "markdown",
   "id": "e0266386-9dd9-4223-b65f-0ca6a684ff07",
   "metadata": {},
   "source": [
    "## LogOdds of reading patterns:\n",
    "    - Dur_L: linead reading\n",
    "    - Dur_R: regressive reading\n",
    "    - Dur_S: scattered gaze data\n",
    "    - Dur_N: no fixation data recorded"
   ]
  },
  {
   "cell_type": "code",
   "execution_count": null,
   "id": "8a5f4057",
   "metadata": {},
   "outputs": [],
   "source": [
    "HOFdf['LogOddsDur_L'] = np.log(HOFdf['RelDur_L']/(1-HOFdf['RelDur_L']))\n",
    "HOFdf['LogOddsDur_R'] = np.log(HOFdf['RelDur_R']/(1-HOFdf['RelDur_R']))\n",
    "HOFdf['LogOddsDur_S'] = np.log(HOFdf['RelDur_S']/(1-HOFdf['RelDur_S']))\n",
    "HOFdf['LogOddsDur_N'] = np.log(HOFdf['RelDur_N']/(1-HOFdf['RelDur_N']))\n",
    "\n",
    "sns.boxplot(data=HOFdf, y='LogOddsDur_R' , hue='HOF', hue_order=desired_order )\n",
    "plt.show()\n",
    "\n",
    "sns.boxplot(data=HOFdf, y='LogOddsDur_L' , hue='HOF', hue_order=desired_order )\n",
    "plt.show()\n",
    "\n",
    "sns.boxplot(data=HOFdf, y='LogOddsDur_S' , hue='HOF', hue_order=desired_order )\n",
    "plt.show()\n",
    "\n",
    "sns.boxplot(data=HOFdf, y='LogOddsDur_N' , hue='HOF', hue_order=desired_order )\n",
    "plt.show()\n",
    "\n"
   ]
  },
  {
   "cell_type": "code",
   "execution_count": null,
   "id": "38057dd1-c115-4c47-967b-77e3a4d12d86",
   "metadata": {},
   "outputs": [],
   "source": [
    "# normal distribution\n",
    "import numpy as np\n",
    "from scipy import stats\n",
    "\n",
    "POLdf['LogInEff'] = np.log((POLdf['Ins'] + POLdf['Del'] + 1)/ (POLdf['Del'] + 1))\n",
    "\n",
    "PL1 = POLdf\n",
    "T = ['LogOdur', 'LogHdur', 'LogRdur', 'LogFdur', 'LogInEff']\n",
    "#T = ['RelRdur']\n",
    "\n",
    "# Interpret the results (common significance level alpha = 0.05)\n",
    "alpha = 0.05\n",
    "for t in T:\n",
    "    D1 =  PL1[PL1[t] > 0][t]\n",
    "\n",
    "    statistic_normal, pvalue_normal = stats.normaltest(D1)\n",
    "    M1 = D1.mean()\n",
    "    S1 = D1.std()\n",
    "    \n",
    "    print(t, f\"Mean:{M1} Std:{S1} Statistic: {statistic_normal:.4f}, P-value: {pvalue_normal:.8f}\")\n",
    "    if pvalue_normal > alpha:\n",
    "        print(t, \"Normal Data: The sample likely comes from a normal distribution (fail to reject H0).\")\n",
    "    else:\n",
    "        print(t, \"Normal Data: The sample likely does not come from a normal distribution (reject H0).\")\n",
    "        \n",
    "    D1.hist(bins=50)\n",
    "    plt.show()\n",
    "\n"
   ]
  },
  {
   "cell_type": "code",
   "execution_count": null,
   "id": "95e45fc0-78df-4325-a89f-824a652c0100",
   "metadata": {
    "scrolled": true
   },
   "outputs": [],
   "source": [
    "H = pd.concat([POLdf.DOHRFI.value_counts(), \n",
    "               POLdf.DOHRFI.value_counts(normalize=True)], \n",
    "              axis=1, keys=[\"Count\", \"%\"]).reset_index()\n",
    "H['CumSum'] = H['Count'].cumsum()\n",
    "H['CumSum%'] = H['%'].cumsum()\n",
    "\n",
    "print(\"Number of different Policy labels:\", H.shape)\n",
    "H.head(30)"
   ]
  },
  {
   "cell_type": "code",
   "execution_count": null,
   "id": "3221a39e-96ef-4f71-94c5-53ca4815aaa3",
   "metadata": {
    "scrolled": true
   },
   "outputs": [],
   "source": [
    "# Types of policies\n",
    "X = POLdf.groupby(['HOF']).agg(\n",
    "    {'Dur': 'mean', \n",
    "     'Odur': 'mean', \n",
    "     'Ins': 'mean', \n",
    "     'Del': 'mean', \n",
    "     'InEff' \t: 'mean',\n",
    "     \n",
    "     'RelOdur' \t: 'mean',\n",
    "     'RelDur_L' : 'mean',\n",
    "     'RelDur_R' : 'mean',\n",
    "     'RelDur_S' : 'mean',\n",
    "     'RelDur_N' : 'mean',\n",
    "     \n",
    "     'RelOdur' : 'mean',\n",
    "     'RelHdur' : 'mean',\n",
    "     'RelRdur' : 'mean',\n",
    "     'RelFdur' : 'mean',\n",
    "\n",
    "     'LogOdur' : 'mean',\n",
    "     'LogHdur' : 'mean',\n",
    "     'LogRdur' : 'mean',\n",
    "     'LogFdur' : 'mean',\n",
    "\n",
    "}).reset_index()\n",
    "\n",
    "\n",
    "X['InEff1']  = X['Del'] / (X['Ins'] + X['Del'])\n",
    "\n",
    "H = pd.concat([POLdf.HOF.value_counts(), \n",
    "               POLdf.HOF.value_counts(normalize=True)], \n",
    "              axis=1, keys=[\"Count\", \"%\"]).reset_index()\n",
    "H['CumSum'] = H['Count'].cumsum()\n",
    "H['CumSum%'] = H['%'].cumsum()\n",
    "\n",
    "POLtype = pd.merge(H, X)\n",
    "POLtype.head(20)"
   ]
  },
  {
   "cell_type": "code",
   "execution_count": null,
   "id": "ab4e4838-6fbe-4d50-807d-441ceaa37365",
   "metadata": {
    "scrolled": true
   },
   "outputs": [],
   "source": [
    "print(POLtype[['InEff', 'InEff1']].corr())\n",
    "PT50 = ['OF', 'OR', 'OH']\n",
    "\n",
    "PT1 = POLtype[POLtype.HOF.isin(PT50)]\n",
    "PT1 = POLtype\n",
    "#sns.histplot(data=POLtype, x=\"InEff\", y='InEff1', stat=\"density\", kde = True, palette='dark')\n",
    "sns.scatterplot(data=PT1, x=\"InEff\", y='InEff1')\n",
    "plt.show()\n",
    "\n",
    "sns.scatterplot(data=POLtype, x=\"InEff\", y='RelOdur')\n",
    "plt.show()\n",
    "\n",
    "sns.scatterplot(data=POLtype, x=\"InEff\", y='RelHdur')\n",
    "plt.show()\n",
    "\n",
    "sns.scatterplot(data=POLtype, x=\"InEff\", y='RelRdur')\n",
    "plt.show()\n",
    "\n",
    "sns.scatterplot(data=POLtype, x=\"InEff\", y='RelFdur')\n",
    "plt.show()\n",
    "\n",
    "\n"
   ]
  },
  {
   "cell_type": "code",
   "execution_count": null,
   "id": "1378be4c-0ca8-47bc-aebc-43e67fb67bb1",
   "metadata": {},
   "outputs": [],
   "source": [
    "# correlation\n",
    "C = ['RelOdur', 'RelDur_L', 'RelDur_R', 'RelDur_S', 'RelDur_N', 'InEff']\n",
    "PLO75 = ['OF', 'OR', 'OH']\n",
    "PLO75 = ['OF']\n",
    "PLO75 = ['OR']\n",
    "\n",
    "POLdf[POLdf.HOF.isin(PLO75)][C].corr()\n"
   ]
  },
  {
   "cell_type": "markdown",
   "id": "86f3c562-a7b8-47cc-a8a7-4fcfa1ed8523",
   "metadata": {},
   "source": [
    "## Log duration of Fixations"
   ]
  },
  {
   "cell_type": "code",
   "execution_count": null,
   "id": "51e494ae-5684-4a07-b10c-210f40885ab8",
   "metadata": {},
   "outputs": [],
   "source": [
    "# Log duration of fixation\n",
    "FDdf['LogDur'] = np.log1p(FDdf.Dur)\n",
    "\n",
    "sns.boxplot(data=FDdf, y=\"LogDur\", hue='Win').set(title='Fixation Duration ST (Win1) and TT (win2)')\n",
    "plt.show()\n",
    "\n",
    "sns.histplot(data=FDdf, x=\"LogDur\", hue='Win')\n",
    "plt.show()\n",
    "\n"
   ]
  },
  {
   "cell_type": "code",
   "execution_count": null,
   "id": "c7dd8228-f4fa-4155-b047-ac687d078300",
   "metadata": {},
   "outputs": [],
   "source": [
    "# Log duration of first fixation on ST and TT words\n",
    "FDdf['StudySession'] = FDdf['Study'] + '-' +FDdf['Session']\n",
    "FDdf['StudySessionWinFirst'] = FDdf['StudySession'] + '-' + FDdf['Win'].astype(str)  + '.' + FDst['SGid'].astype(str) \n",
    "\n",
    "FDst = FDdf[FDdf.Win == 1].copy()\n",
    "FDtt = FDdf[FDdf.Win == 2].copy()\n",
    "\n",
    "FDst['StudySessionFirst'] = FDst['StudySession'] + FDst['SGid'].astype(str)\n",
    "FDtt['StudySessionFirst'] = FDtt['StudySession'] + FDtt['SGid'].astype(str)\n",
    "\n",
    "FDst_first = FDst.drop_duplicates(subset=['StudySessionFirst'], keep='first')\n",
    "FDtt_first = FDtt.drop_duplicates(subset=['StudySessionFirst'], keep='first')\n",
    "\n",
    "#sns.histplot(data=FDst, x=\"LogDur\", hue='StudySession')\n",
    "#plt.show()\n",
    "\n",
    "sns.histplot(data=FDst_first, x=\"LogDur\", hue='StudySession', alpha=0.3, bins=80)\n",
    "plt.show()\n",
    "\n",
    "sns.histplot(data=FDtt_first, x=\"LogDur\", hue='StudySession', alpha=0.3, bins=80)\n",
    "plt.show()\n"
   ]
  },
  {
   "cell_type": "code",
   "execution_count": null,
   "id": "3282c872-5c24-48ad-8050-7d6cd01d5991",
   "metadata": {},
   "outputs": [],
   "source": [
    "# boxplots\n",
    "sns.boxplot(data=FDst, y=\"LogDur\", hue=\"StudySession\").set(title='Fixation Duration ST')\n",
    "plt.show()\n",
    "sns.boxplot(data=FDst_first, y=\"LogDur\", hue=\"StudySession\").set(title='First Fixation Duration ST')\n",
    "plt.show()\n",
    "\n",
    "sns.boxplot(data=FDtt, y=\"LogDur\", hue=\"StudySession\").set(title='Fixation Duration TT')\n",
    "plt.show()\n",
    "sns.boxplot(data=FDtt_first, y=\"LogDur\", hue=\"StudySession\").set(title='First Fixation Duration TT')\n",
    "plt.show()\n",
    "\n"
   ]
  },
  {
   "cell_type": "code",
   "execution_count": null,
   "id": "c50ba448-7955-4fcd-865c-e3ed939ff815",
   "metadata": {},
   "outputs": [],
   "source": [
    "sns.set(font_scale=1.5)\n",
    "sns.set_style(\"whitegrid\")\n",
    "\n",
    "\n",
    "#desired_order = [\"H\", \"O\", \"F\"]\n",
    "#sns.histplot(data=AUdf1[(AUdf1.Type == 1)], x=\"LogDur_R\", bins=30, hue='HOF', alpha=0.2, stat=\"probability\", kde = True, hue_order=desired_order )\n",
    "#plt.show()\n",
    "\n",
    "AU1 = AUdf[AUdf['LogDur'] > 1]\n",
    "pd.crosstab(AU1['Phase'], AU1['HOF'], normalize='index').plot.bar()\n",
    "\n",
    "desired_order = [\"H\", \"O\", \"R\", \"F\"]\n",
    "plt.legend(bbox_to_anchor=(1, 1), title=\"HOF states\", loc=\"upper left\")\n",
    "plt.show()\n",
    "\n",
    "\n",
    "#pd.crosstab(AUdf['Phase'],AUdf['LabelT'], normalize='index').plot.bar()\n",
    "#plt.show()\n"
   ]
  },
  {
   "cell_type": "code",
   "execution_count": null,
   "id": "25b222c8",
   "metadata": {},
   "outputs": [],
   "source": [
    "sns.set(font_scale=1.5)\n",
    "sns.set_style(\"whitegrid\")\n",
    "\n",
    "\n",
    "desired_order = [\"H\", \"O\", \"R\", \"F\"]\n",
    "\n",
    "#AU1 = AUdf[(AUdf['LogDur'] > 2) & (AUdf.Tstyles != '---')]\n",
    "#AU1 = AUdf[(AUdf.Tstyles != '---')]\n",
    "pd.crosstab(AU1['Phase'], AU1['Tstyles'], normalize='index').plot.bar()\n",
    "\n",
    "plt.legend(bbox_to_anchor=(1, 1), title=\"Translation Styles\", loc=\"upper left\")\n",
    "plt.show()\n",
    "\n",
    "sns.histplot(data=AU1[(AU1.Type == 1) ], x=\"LogDur\", bins=50, alpha=0.4, hue='HOF', fill=False, kde = True)\n",
    "plt.show()\n",
    "\n",
    "\n",
    "#pd.crosstab(AUdf['Phase'],AUdf['LabelT'], normalize='index').plot.bar()\n",
    "#plt.show()\n"
   ]
  },
  {
   "cell_type": "code",
   "execution_count": null,
   "id": "b90258a4",
   "metadata": {},
   "outputs": [],
   "source": [
    "AUdf1 = AUdf[(AUdf.LogDur_L > 1) & (AUdf.LogDur_R > 1) & (AUdf.LogDur_S > 1)]\n",
    "AUdf1 = AUdf[(AUdf.LogDur_L > 1) ]\n",
    "\n",
    "Phase_order = ['O','D','R']\n",
    "sns.histplot(data=AUdf1[(AUdf1.Type == 1) & (AUdf1.Phase == 'O')], x=\"LogDur\", stat=\"probability\", fill=False, kde = True, color='blue')\n",
    "sns.histplot(data=AUdf1[(AUdf1.Type == 1) & (AUdf1.Phase == 'D')], x=\"LogDur\", stat=\"probability\", fill=False, kde = True, color='red')\n",
    "sns.histplot(data=AUdf1[(AUdf1.Type == 1) & (AUdf1.Phase == 'R')], x=\"LogDur\", stat=\"probability\", fill=False, kde = True, color='green', hue_order=Phase_order)\n",
    "plt.show()\n",
    "\n",
    "AUdf1 = AUdf[(AUdf.Dur > 3) & (AUdf.Dur < 30000) ]\n",
    "sns.histplot(data=AUdf1, x=\"LogDur\", bins=50, alpha=1, hue='Type', stat=\"density\", fill=False, kde=True, palette='deep')\n",
    "plt.show()\n",
    "\n",
    "sns.histplot(data=AUdf1[(AUdf1.Type == 1) & (AUdf1.Phase == 'O')], x=\"LogDur_L\", stat=\"probability\", fill=False, kde = True, color='blue')\n",
    "sns.histplot(data=AUdf1[(AUdf1.Type == 1) & (AUdf1.Phase == 'D')], x=\"LogDur_L\", stat=\"probability\", fill=False, kde = True, color='red')\n",
    "sns.histplot(data=AUdf1[(AUdf1.Type == 1) & (AUdf1.Phase == 'R')], x=\"LogDur_L\", stat=\"probability\", fill=False, kde = True, color='green', hue_order=Phase_order)\n",
    "\n",
    "plt.show()\n"
   ]
  },
  {
   "cell_type": "markdown",
   "id": "2fedcbc3-a76e-4041-921c-64f24144e853",
   "metadata": {},
   "source": [
    "## Distribution of Phases "
   ]
  },
  {
   "cell_type": "code",
   "execution_count": null,
   "id": "cb9d935e",
   "metadata": {},
   "outputs": [],
   "source": [
    "AUdf1 = AUdf[(AUdf.LogDur_L > 1)]\n",
    "\n",
    "sns.histplot(data=AUdf1, x=\"LogDur_L\", bins=25, alpha=0.3, stat=\"probability\")\n",
    "sns.histplot(data=AUdf1[(AUdf1.Phase == 'O')], x=\"LogDur_L\", stat=\"probability\", element=\"poly\", alpha=0.1, kde = False )\n",
    "sns.histplot(data=AUdf1[(AUdf1.Phase == 'D')], x=\"LogDur_L\", stat=\"probability\", element=\"poly\", alpha=0.1, kde = False )\n",
    "sns.histplot(data=AUdf1[(AUdf1.Phase == 'R')], x=\"LogDur_L\", stat=\"probability\", element=\"poly\", alpha=0.1, kde = False )\n",
    "\n",
    "\n",
    "desired_order = [\"O\", \"D\", \"R\"]\n",
    "plt.legend(title=\"Translation Phases\", loc=\"upper right\", labels=desired_order)\n",
    "plt.show()\n"
   ]
  },
  {
   "cell_type": "code",
   "execution_count": null,
   "id": "9496e703",
   "metadata": {},
   "outputs": [],
   "source": [
    "#AUdf1 = AUdf[(AUdf.LogDur_L > 1) & (AUdf.LogDur_R > 1) & (AUdf.LogDur_S > 1)]\n",
    "AUdf1 = AUdf[(AUdf.LogDur_S > 0)]\n",
    "sns.histplot(data=AUdf1[(AUdf1.Phase == 'O')], x=\"LogDur_S\", bins=30, alpha=0.1, stat=\"probability\", element=\"poly\", kde = True )\n",
    "sns.histplot(data=AUdf1[(AUdf1.Phase == 'D')], x=\"LogDur_S\", bins=40, alpha=0.1, stat=\"probability\", kde = True )\n",
    "sns.histplot(data=AUdf1[(AUdf1.Phase == 'R')], x=\"LogDur_S\", bins=40, alpha=0.1, stat=\"probability\", kde = True )\n",
    "\n",
    "#sns.histplot(data=AUdf1[(AUdf1.Phase == 'O')], x=\"RelDur_S\", bins=30, alpha=0.1, stat=\"probability\", kde = True )\n",
    "#sns.histplot(data=AUdf1[(AUdf1.Phase == 'D')], x=\"RelDur_S\", bins=40, alpha=0.1, stat=\"probability\", kde = True )\n",
    "#sns.histplot(data=AUdf1[(AUdf1.Phase == 'R')], x=\"RelDur_S\", bins=40, alpha=0.1, stat=\"probability\", kde = True )\n",
    "\n",
    "#print(AUdf[(AUdf.Type == 1)\n",
    "desired_order = [\"O\", \"D\", \"R\"]\n",
    "plt.legend(title=\"Translation Phases\", loc=\"upper right\", labels=desired_order)\n",
    "plt.show()\n"
   ]
  }
 ],
 "metadata": {
  "kernelspec": {
   "display_name": "Python 3 (ipykernel)",
   "language": "python",
   "name": "python3"
  },
  "language_info": {
   "codemirror_mode": {
    "name": "ipython",
    "version": 3
   },
   "file_extension": ".py",
   "mimetype": "text/x-python",
   "name": "python",
   "nbconvert_exporter": "python",
   "pygments_lexer": "ipython3",
   "version": "3.12.3"
  }
 },
 "nbformat": 4,
 "nbformat_minor": 5
}
